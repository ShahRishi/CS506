{
 "cells": [
  {
   "attachments": {},
   "cell_type": "markdown",
   "metadata": {},
   "source": [
    "# Worksheet 08\n",
    "\n",
    "Name: Rishi Shah\n",
    "UID: U21345032\n",
    "\n",
    "### Topics\n",
    "\n",
    "- Soft Clustering\n",
    "- Clustering Aggregation\n",
    "\n",
    "### Probability Review\n",
    "\n",
    "Read through [the following](https://medium.com/@gallettilance/overview-of-probability-3272b72c82c8)\n",
    "\n",
    "### Soft Clustering\n",
    "\n",
    "We generate 10 data points that come from a normal distribution with mean 5 and variance 1."
   ]
  },
  {
   "cell_type": "code",
   "execution_count": 2,
   "metadata": {},
   "outputs": [
    {
     "name": "stdout",
     "output_type": "stream",
     "text": [
      "[3.7091957182875825, 3.743927671541216, 6.2083787493161795, 3.919803744541124, 3.1945295822633337, 5.034606343023843, 6.099995183459491, 4.868542630977463, 3.4326091286980835, 6.2191671830495086]\n"
     ]
    }
   ],
   "source": [
    "import random\n",
    "import numpy as np\n",
    "from sklearn.cluster import KMeans\n",
    "\n",
    "mean = 5\n",
    "stdev = 1\n",
    "\n",
    "s1 = np.random.normal(mean, stdev, 10).tolist()\n",
    "print(s1)"
   ]
  },
  {
   "cell_type": "markdown",
   "metadata": {},
   "source": [
    "a) Generate 10 more data points, this time coming from a normal distribution with mean 8 and variance 1."
   ]
  },
  {
   "cell_type": "code",
   "execution_count": 3,
   "metadata": {},
   "outputs": [
    {
     "name": "stdout",
     "output_type": "stream",
     "text": [
      "[8.1521449259202, 6.148578350796259, 9.36768736113449, 8.170250137775673, 8.27774089750969, 7.110955072236066, 11.17061725190748, 9.16553079891304, 7.363409578058562, 6.9743299356065815]\n"
     ]
    }
   ],
   "source": [
    "s2 = np.random.normal( 8 , 1 , 10 ).tolist()\n",
    "print(s2)"
   ]
  },
  {
   "cell_type": "markdown",
   "metadata": {},
   "source": [
    "b) Flip a fair coin 10 times. If the coin lands on H, then pick the last data point of `c1` and remove it from `c1`, if T then pick the last data point from `c2` and remove it from `c2`. Add these 10 points to a list called `data`."
   ]
  },
  {
   "cell_type": "code",
   "execution_count": 4,
   "metadata": {},
   "outputs": [
    {
     "name": "stdout",
     "output_type": "stream",
     "text": [
      "[6.9743299356065815, 6.2191671830495086, 7.363409578058562, 9.16553079891304, 11.17061725190748, 3.4326091286980835, 7.110955072236066, 4.868542630977463, 6.099995183459491, 5.034606343023843]\n"
     ]
    }
   ],
   "source": [
    "data = []\n",
    "for i in range(10):\n",
    "    # flip coin\n",
    "    coin_output = random.choice([0, 1])\n",
    "    if coin_output == 0:\n",
    "        p1 = s1.pop()\n",
    "        data.append(p1)\n",
    "    else:\n",
    "        p2 = s2.pop()\n",
    "        data.append(p2)\n",
    "print(data)"
   ]
  },
  {
   "cell_type": "markdown",
   "metadata": {},
   "source": [
    "c) This `data` is a Gaussian Mixture Distribution with 2 mixture components. Over the next few questions we will walk through the GMM algorithm to see if we can uncover the parameters we used to generate this data. First, please list all these parameters of the GMM that created `data` and the values we know they have."
   ]
  },
  {
   "cell_type": "markdown",
   "metadata": {},
   "source": [
    "pi1, pi2 are the proportions of values coming from each distribution, which should be about 0.5 since this is a fair coin. The mean and variance of each distribution are (5, 1) and (8, 1) respectively"
   ]
  },
  {
   "cell_type": "markdown",
   "metadata": {},
   "source": [
    "d) Let's assume there are two mixture components (note: we could plot the data and make the observation that there are two clusters). The EM algorithm asks us to start with a random `mean_j`, `variance_j`, `P(S_j)` for each component j. One method we could use to find sensible values for these is to apply K means with k=2 here.\n",
    "\n",
    "1. the centroids would be the estimates of the `mean_j`\n",
    "2. the intra-cluster variance could be the estimate of `variance_j`\n",
    "3. the proportion of points in each cluster could be the estimate of `P(S_j)`\n",
    "\n",
    "Go through this process and list the parameter estimates it gives. Are they close or far from the true values?"
   ]
  },
  {
   "cell_type": "code",
   "execution_count": 7,
   "metadata": {},
   "outputs": [
    {
     "name": "stdout",
     "output_type": "stream",
     "text": [
      "[6.9743299356065815, 6.2191671830495086, 7.363409578058562, 3.4326091286980835, 7.110955072236066, 4.868542630977463, 6.099995183459491, 5.034606343023843]\n",
      "[9.16553079891304, 11.17061725190748]\n",
      "P(S_1) = 0.8,  P(S_2) = 0.2\n",
      "mean_1 = 5.8879518818887,  mean_2 = 10.16807402541026\n",
      "var_1 = 1.6004621618800356,  var_2 = 1.0050929209954567\n"
     ]
    },
    {
     "name": "stderr",
     "output_type": "stream",
     "text": [
      "/opt/homebrew/lib/python3.11/site-packages/sklearn/cluster/_kmeans.py:1416: FutureWarning: The default value of `n_init` will change from 10 to 'auto' in 1.4. Set the value of `n_init` explicitly to suppress the warning\n",
      "  super()._check_params_vs_input(X, default_n_init=10)\n"
     ]
    }
   ],
   "source": [
    "kmeans = KMeans(2, init='k-means++').fit(X=np.array(data).reshape(-1, 1))\n",
    "\n",
    "s1 = [x[0] for x in filter(lambda x: x[1] == 0, zip(data, kmeans.labels_))]\n",
    "print(s1)\n",
    "s2 = [x[0] for x in filter(lambda x: x[1] == 1, zip(data, kmeans.labels_))]\n",
    "\n",
    "print(s2)\n",
    "\n",
    "prob_s = [len(s1) / (len(s1) + len(s2)), len(s2) / (len(s1) + len(s2))]\n",
    "mean = [sum(s1)/len(s1), sum(s2)/len(s2)]\n",
    "var = [sum(map(lambda x: (x - mean[0])**2, s1)) / len(s1), sum(map(lambda x: (x - mean[1])**2, s2)) / len(s2)]\n",
    "\n",
    "print(\"P(S_1) = \" + str(prob_s[0]) + \",  P(S_2) = \" + str(prob_s[1]))\n",
    "print(\"mean_1 = \" + str(mean[0]) + \",  mean_2 = \" + str(mean[1]))\n",
    "print(\"var_1 = \" + str(var[0]) + \",  var_2 = \" + str(var[1]))"
   ]
  },
  {
   "cell_type": "markdown",
   "metadata": {},
   "source": [
    "True Parameters:\n",
    "\n",
    "For the mixture originating from s1:\n",
    "µ₁ = 5, σ₁² = 1\n",
    "For the mixture originating from s2:\n",
    "µ₂ = 8, σ₂² = 1\n",
    "\n",
    "\n",
    "K-means Estimates:\n",
    "\n",
    "For cluster s1:\n",
    "\n",
    "Estimated mean (mean_1) = 5.8879518818887\n",
    "\n",
    "Estimated variance (var_1) = 1.6004621618800356\n",
    "\n",
    "P(S_1) = 0.8\n",
    "\n",
    "\n",
    "For cluster s2:\n",
    "\n",
    "Estimated mean (mean_2) = 10.16807402541026\n",
    "\n",
    "Estimated variance (var_2) = 1.0050929209954567\n",
    "\n",
    "P(S_2) = 0.2\n",
    "\n",
    "These are pretty close"
   ]
  },
  {
   "cell_type": "markdown",
   "metadata": {},
   "source": [
    "e) For each data point, compute `P(S_j | X_i)`. Comment on which cluster you think each point belongs to based on the estimated probabilities. How does that compare to the truth?"
   ]
  },
  {
   "cell_type": "code",
   "execution_count": 9,
   "metadata": {},
   "outputs": [
    {
     "name": "stdout",
     "output_type": "stream",
     "text": [
      "point =  6.9743299356065815\n",
      "probability of observing that point if it came from cluster 0 =  0.21810119024239172\n",
      "probability of observing that point if it came from cluster 1 =  0.002489590850523214\n",
      "point =  6.2191671830495086\n",
      "probability of observing that point if it came from cluster 0 =  0.3047214433037885\n",
      "probability of observing that point if it came from cluster 1 =  0.00017013757133903994\n",
      "point =  7.363409578058562\n",
      "probability of observing that point if it came from cluster 0 =  0.15974234282991157\n",
      "probability of observing that point if it came from cluster 1 =  0.007949704353848475\n",
      "point =  9.16553079891304\n",
      "probability of observing that point if it came from cluster 0 =  0.010996766986636432\n",
      "probability of observing that point if it came from cluster 1 =  0.24135689925766435\n",
      "point =  11.17061725190748\n",
      "probability of observing that point if it came from cluster 0 =  5.15806266569568e-05\n",
      "probability of observing that point if it came from cluster 1 =  0.24135689925766435\n",
      "point =  3.4326091286980835\n",
      "probability of observing that point if it came from cluster 0 =  0.047954051664310424\n",
      "probability of observing that point if it came from cluster 1 =  6.288058755663198e-11\n",
      "point =  7.110955072236066\n",
      "probability of observing that point if it came from cluster 0 =  0.1976282519354851\n",
      "probability of observing that point if it came from cluster 1 =  0.0038074785313558035\n",
      "point =  4.868542630977463\n",
      "probability of observing that point if it came from cluster 0 =  0.2279248106713086\n",
      "probability of observing that point if it came from cluster 1 =  3.4050365018260333e-07\n",
      "point =  6.099995183459491\n",
      "probability of observing that point if it came from cluster 0 =  0.3109474247936775\n",
      "probability of observing that point if it came from cluster 1 =  0.00010577643962781637\n",
      "point =  5.034606343023843\n",
      "probability of observing that point if it came from cluster 0 =  0.2511810951978474\n",
      "probability of observing that point if it came from cluster 1 =  8.061804711152076e-07\n",
      "6.9743299356065815\n",
      "Probability of coming from S_1 = 0.997154409734908\n",
      "Probability of coming from S_2 = 0.0028455902650919894\n",
      "\n",
      "6.2191671830495086\n",
      "Probability of coming from S_1 = 0.9998604349728067\n",
      "Probability of coming from S_2 = 0.00013956502719327535\n",
      "\n",
      "7.363409578058562\n",
      "Probability of coming from S_1 = 0.9877114392622104\n",
      "Probability of coming from S_2 = 0.012288560737789642\n",
      "\n",
      "9.16553079891304\n",
      "Probability of coming from S_1 = 0.15415453979114901\n",
      "Probability of coming from S_2 = 0.845845460208851\n",
      "\n",
      "11.17061725190748\n",
      "Probability of coming from S_1 = 0.0008541139049269203\n",
      "Probability of coming from S_2 = 0.9991458860950732\n",
      "\n",
      "3.4326091286980835\n",
      "Probability of coming from S_1 = 0.999999999672183\n",
      "Probability of coming from S_2 = 3.278168650701169e-10\n",
      "\n",
      "7.110955072236066\n",
      "Probability of coming from S_1 = 0.995206621763944\n",
      "Probability of coming from S_2 = 0.004793378236055959\n",
      "\n",
      "4.868542630977463\n",
      "Probability of coming from S_1 = 0.9999996265177078\n",
      "Probability of coming from S_2 = 3.734822922608031e-07\n",
      "\n",
      "6.099995183459491\n",
      "Probability of coming from S_1 = 0.9999149635626936\n",
      "Probability of coming from S_2 = 8.503643730641859e-05\n",
      "\n",
      "5.034606343023843\n",
      "Probability of coming from S_1 = 0.9999991976109671\n",
      "Probability of coming from S_2 = 8.023890329105348e-07\n",
      "\n"
     ]
    }
   ],
   "source": [
    "from scipy.stats import norm\n",
    "\n",
    "prob_s0_x = []  # P(S_0 | X_i)\n",
    "prob_s1_x = []  # P(S_1 | X_i)\n",
    "prob_x_list = []  # P(X_i)\n",
    "\n",
    "k = 2\n",
    "\n",
    "for p in data:\n",
    "    print(\"point = \", p)\n",
    "    pdf_i = []\n",
    "\n",
    "    for j in range(k):\n",
    "        # P(X_i | S_j)\n",
    "        pdf_i.append(norm.pdf(p, mean[j], var[j]**0.5))\n",
    "        print(\"probability of observing that point if it came from cluster \" + str(j) + \" = \", pdf_i[j])\n",
    "\n",
    "    # P(X_i) = P(S_0)P(X_i | S_0) + P(S_1)P(X_i | S_1)\n",
    "    prob_x = prob_s[0] * pdf_i[0] + prob_s[1] * pdf_i[1]\n",
    "    prob_x_list.append(prob_x)\n",
    "\n",
    "    # P(S_j | X_i) = P(X_i | S_j)P(S_j) / P(X_i)\n",
    "    prob_s0_x.append(pdf_i[0] * prob_s[0] / prob_x)\n",
    "    prob_s1_x.append(pdf_i[1] * prob_s[1] / prob_x)\n",
    "\n",
    "probs = zip(data, prob_s0_x, prob_s1_x)\n",
    "for p in probs:\n",
    "    print(p[0])\n",
    "    print(\"Probability of coming from S_1 = \" + str(p[1]))\n",
    "    print(\"Probability of coming from S_2 = \" + str(p[2]))\n",
    "    print()\n"
   ]
  },
  {
   "cell_type": "markdown",
   "metadata": {},
   "source": [
    "f) Having computed `P(S_j | X_i)`, update the estimates of `mean_j`, `var_j`, and `P(S_j)`. How different are these values from the original ones you got from K means? briefly comment."
   ]
  },
  {
   "cell_type": "code",
   "execution_count": 10,
   "metadata": {},
   "outputs": [
    {
     "name": "stdout",
     "output_type": "stream",
     "text": [
      "P(S_1) = 0.8134855346793495,  P(S_2) = 0.18651446532065033\n",
      "mean_1 = 5.9472789996460245,  mean_2 = 10.218783140503565\n",
      "var_1 = 1.7723251949969683,  var_2 = 1.0850066625214843\n"
     ]
    }
   ],
   "source": [
    "prob_c = [sum(prob_s0_x)/ len(prob_s0_x), sum(prob_s1_x)/ len(prob_s1_x)]\n",
    "mean = [\n",
    "    sum([x[0] * x[1] for x in zip(prob_s0_x, data)]) / sum(prob_s0_x),\n",
    "    sum([x[0] * x[1] for x in zip(prob_s1_x, data)]) / sum(prob_s1_x)\n",
    "]\n",
    "var = [\n",
    "    sum([x[0] * (x[1] - mean[0])**2 for x in zip(prob_s0_x, data)]) / sum(prob_s0_x),\n",
    "    sum([x[0] * (x[1] - mean[1])**2 for x in zip(prob_s1_x, data)]) / sum(prob_s1_x)\n",
    "]\n",
    "\n",
    "print(\"P(S_1) = \" + str(prob_c[0]) + \",  P(S_2) = \" + str(prob_c[1]))\n",
    "print(\"mean_1 = \" + str(mean[0]) + \",  mean_2 = \" + str(mean[1]))\n",
    "print(\"var_1 = \" + str(var[0]) + \",  var_2 = \" + str(var[1]))"
   ]
  },
  {
   "cell_type": "markdown",
   "metadata": {},
   "source": [
    "This highlights the benefits of a probabilistic approach in GMM, where we consider not only the center but also the shape and spread of the data in each cluster."
   ]
  },
  {
   "cell_type": "markdown",
   "metadata": {},
   "source": [
    "g) Update `P(S_j | X_i)`. Comment on any differences or lack thereof you observe."
   ]
  },
  {
   "cell_type": "code",
   "execution_count": null,
   "metadata": {},
   "outputs": [],
   "source": []
  },
  {
   "cell_type": "markdown",
   "metadata": {},
   "source": []
  },
  {
   "cell_type": "markdown",
   "metadata": {},
   "source": [
    "h) Use `P(S_j | X_i)` to create a hard assignment - label each point as belonging to a specific cluster (0 or 1)"
   ]
  },
  {
   "cell_type": "code",
   "execution_count": null,
   "metadata": {},
   "outputs": [],
   "source": []
  }
 ],
 "metadata": {
  "kernelspec": {
   "display_name": "Python 3 (ipykernel)",
   "language": "python",
   "name": "python3"
  },
  "language_info": {
   "codemirror_mode": {
    "name": "ipython",
    "version": 3
   },
   "file_extension": ".py",
   "mimetype": "text/x-python",
   "name": "python",
   "nbconvert_exporter": "python",
   "pygments_lexer": "ipython3",
   "version": "3.11.5"
  },
  "vscode": {
   "interpreter": {
    "hash": "e7370f93d1d0cde622a1f8e1c04877d8463912d04d973331ad4851f04de6915a"
   }
  }
 },
 "nbformat": 4,
 "nbformat_minor": 4
}
